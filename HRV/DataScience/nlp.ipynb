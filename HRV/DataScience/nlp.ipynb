{
 "cells": [
  {
   "cell_type": "code",
   "execution_count": 57,
   "metadata": {},
   "outputs": [],
   "source": [
    "para = \"You can do this. Don't tell people your plans. Show them your results. No pressur, no diamonds. Try Again. Fail better.\""
   ]
  },
  {
   "cell_type": "code",
   "execution_count": 58,
   "metadata": {},
   "outputs": [],
   "source": [
    "para = \"You can do this. Don't tell people your plans. Show them your results. No pressur, no diamonds. Try Again. Fail better.\".lower()"
   ]
  },
  {
   "cell_type": "code",
   "execution_count": 59,
   "metadata": {},
   "outputs": [],
   "source": [
    "import nltk\n",
    "from nltk import sent_tokenize\n",
    "from nltk import word_tokenize"
   ]
  },
  {
   "cell_type": "code",
   "execution_count": 60,
   "metadata": {},
   "outputs": [
    {
     "data": {
      "text/plain": [
       "['you can do this.',\n",
       " \"don't tell people your plans.\",\n",
       " 'show them your results.',\n",
       " 'no pressur, no diamonds.',\n",
       " 'try again.',\n",
       " 'fail better.']"
      ]
     },
     "execution_count": 60,
     "metadata": {},
     "output_type": "execute_result"
    }
   ],
   "source": [
    "sent_tokenize(para)"
   ]
  },
  {
   "cell_type": "code",
   "execution_count": 61,
   "metadata": {},
   "outputs": [
    {
     "data": {
      "text/plain": [
       "['you',\n",
       " 'can',\n",
       " 'do',\n",
       " 'this',\n",
       " '.',\n",
       " 'do',\n",
       " \"n't\",\n",
       " 'tell',\n",
       " 'people',\n",
       " 'your',\n",
       " 'plans',\n",
       " '.',\n",
       " 'show',\n",
       " 'them',\n",
       " 'your',\n",
       " 'results',\n",
       " '.',\n",
       " 'no',\n",
       " 'pressur',\n",
       " ',',\n",
       " 'no',\n",
       " 'diamonds',\n",
       " '.',\n",
       " 'try',\n",
       " 'again',\n",
       " '.',\n",
       " 'fail',\n",
       " 'better',\n",
       " '.']"
      ]
     },
     "execution_count": 61,
     "metadata": {},
     "output_type": "execute_result"
    }
   ],
   "source": [
    "word_tokenize(para)"
   ]
  },
  {
   "cell_type": "markdown",
   "metadata": {},
   "source": [
    "# Filtering Stop Words"
   ]
  },
  {
   "cell_type": "code",
   "execution_count": 62,
   "metadata": {},
   "outputs": [
    {
     "name": "stderr",
     "output_type": "stream",
     "text": [
      "[nltk_data] Downloading package stopwords to\n",
      "[nltk_data]     C:\\Users\\User\\AppData\\Roaming\\nltk_data...\n",
      "[nltk_data]   Package stopwords is already up-to-date!\n"
     ]
    },
    {
     "data": {
      "text/plain": [
       "True"
      ]
     },
     "execution_count": 62,
     "metadata": {},
     "output_type": "execute_result"
    }
   ],
   "source": [
    "import nltk\n",
    "nltk.download('stopwords')"
   ]
  },
  {
   "cell_type": "code",
   "execution_count": 63,
   "metadata": {},
   "outputs": [],
   "source": [
    "tokens = word_tokenize(para)"
   ]
  },
  {
   "cell_type": "code",
   "execution_count": 64,
   "metadata": {},
   "outputs": [],
   "source": [
    "from nltk.corpus import stopwords"
   ]
  },
  {
   "cell_type": "code",
   "execution_count": 65,
   "metadata": {},
   "outputs": [
    {
     "data": {
      "text/plain": [
       "['.',\n",
       " \"n't\",\n",
       " 'tell',\n",
       " 'people',\n",
       " 'plans',\n",
       " '.',\n",
       " 'show',\n",
       " 'results',\n",
       " '.',\n",
       " 'pressur',\n",
       " ',',\n",
       " 'diamonds',\n",
       " '.',\n",
       " 'try',\n",
       " '.',\n",
       " 'fail',\n",
       " 'better',\n",
       " '.']"
      ]
     },
     "execution_count": 65,
     "metadata": {},
     "output_type": "execute_result"
    }
   ],
   "source": [
    "stop_words = set(stopwords.words('english'))\n",
    "filtered_tokens = [word for word in tokens if word.casefold() not in stop_words]\n",
    "filtered_tokens"
   ]
  },
  {
   "cell_type": "code",
   "execution_count": 72,
   "metadata": {},
   "outputs": [
    {
     "data": {
      "text/plain": [
       "[\"n't\",\n",
       " 'tell',\n",
       " 'people',\n",
       " 'plans',\n",
       " 'show',\n",
       " 'results',\n",
       " 'pressur',\n",
       " 'diamonds',\n",
       " 'try',\n",
       " 'fail',\n",
       " 'better']"
      ]
     },
     "execution_count": 72,
     "metadata": {},
     "output_type": "execute_result"
    }
   ],
   "source": [
    "filtered_tokens = [word for word in filtered_tokens if word not in '.'',']\n",
    "filtered_tokens"
   ]
  },
  {
   "cell_type": "markdown",
   "metadata": {},
   "source": [
    "# Steming & Lamitization"
   ]
  },
  {
   "cell_type": "code",
   "execution_count": 73,
   "metadata": {},
   "outputs": [
    {
     "data": {
      "text/plain": [
       "[\"n't\",\n",
       " 'tell',\n",
       " 'people',\n",
       " 'plans',\n",
       " 'show',\n",
       " 'results',\n",
       " 'pressur',\n",
       " 'diamonds',\n",
       " 'try',\n",
       " 'fail',\n",
       " 'better']"
      ]
     },
     "execution_count": 73,
     "metadata": {},
     "output_type": "execute_result"
    }
   ],
   "source": [
    "filtered_tokens"
   ]
  },
  {
   "cell_type": "code",
   "execution_count": 74,
   "metadata": {},
   "outputs": [],
   "source": [
    "from nltk.stem import PorterStemmer"
   ]
  },
  {
   "cell_type": "code",
   "execution_count": 75,
   "metadata": {},
   "outputs": [],
   "source": [
    "stemmer = PorterStemmer()\n"
   ]
  },
  {
   "cell_type": "code",
   "execution_count": 76,
   "metadata": {},
   "outputs": [
    {
     "data": {
      "text/plain": [
       "[\"n't\",\n",
       " 'tell',\n",
       " 'peopl',\n",
       " 'plan',\n",
       " 'show',\n",
       " 'result',\n",
       " 'pressur',\n",
       " 'diamond',\n",
       " 'tri',\n",
       " 'fail',\n",
       " 'better']"
      ]
     },
     "execution_count": 76,
     "metadata": {},
     "output_type": "execute_result"
    }
   ],
   "source": [
    "stemmed_token = [stemmer.stem(word) for word in filtered_tokens]\n",
    "stemmed_token"
   ]
  }
 ],
 "metadata": {
  "kernelspec": {
   "display_name": "Python 3.10.6 ('mldsenv': venv)",
   "language": "python",
   "name": "python3"
  },
  "language_info": {
   "codemirror_mode": {
    "name": "ipython",
    "version": 3
   },
   "file_extension": ".py",
   "mimetype": "text/x-python",
   "name": "python",
   "nbconvert_exporter": "python",
   "pygments_lexer": "ipython3",
   "version": "3.10.6"
  },
  "orig_nbformat": 4,
  "vscode": {
   "interpreter": {
    "hash": "2be23647c38f4a8f3277710e665c3faedf0f6d50fc021d48c9fe9cc2c109c8dd"
   }
  }
 },
 "nbformat": 4,
 "nbformat_minor": 2
}
