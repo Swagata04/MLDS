{
 "cells": [
  {
   "cell_type": "code",
   "execution_count": 12,
   "metadata": {},
   "outputs": [],
   "source": [
    "para = \"You can do this. Don't tell people your plans. Show them your results. No pressur, no diamonds. Try Again. Fail better.\""
   ]
  },
  {
   "cell_type": "code",
   "execution_count": 17,
   "metadata": {},
   "outputs": [],
   "source": [
    "para = \"You can do this. Don't tell people your plans. Show them your results. No pressur, no diamonds. Try Again. Fail better.\".lower()"
   ]
  },
  {
   "cell_type": "code",
   "execution_count": 18,
   "metadata": {},
   "outputs": [],
   "source": [
    "import nltk\n",
    "from nltk import sent_tokenize\n",
    "from nltk import word_tokenize"
   ]
  },
  {
   "cell_type": "code",
   "execution_count": 19,
   "metadata": {},
   "outputs": [
    {
     "data": {
      "text/plain": [
       "['you can do this.',\n",
       " \"don't tell people your plans.\",\n",
       " 'show them your results.',\n",
       " 'no pressur, no diamonds.',\n",
       " 'try again.',\n",
       " 'fail better.']"
      ]
     },
     "execution_count": 19,
     "metadata": {},
     "output_type": "execute_result"
    }
   ],
   "source": [
    "sent_tokenize(para)"
   ]
  },
  {
   "cell_type": "code",
   "execution_count": 21,
   "metadata": {},
   "outputs": [
    {
     "data": {
      "text/plain": [
       "['you',\n",
       " 'can',\n",
       " 'do',\n",
       " 'this',\n",
       " '.',\n",
       " 'do',\n",
       " \"n't\",\n",
       " 'tell',\n",
       " 'people',\n",
       " 'your',\n",
       " 'plans',\n",
       " '.',\n",
       " 'show',\n",
       " 'them',\n",
       " 'your',\n",
       " 'results',\n",
       " '.',\n",
       " 'no',\n",
       " 'pressur',\n",
       " ',',\n",
       " 'no',\n",
       " 'diamonds',\n",
       " '.',\n",
       " 'try',\n",
       " 'again',\n",
       " '.',\n",
       " 'fail',\n",
       " 'better',\n",
       " '.']"
      ]
     },
     "execution_count": 21,
     "metadata": {},
     "output_type": "execute_result"
    }
   ],
   "source": [
    "word_tokenize(para)"
   ]
  }
 ],
 "metadata": {
  "kernelspec": {
   "display_name": "Python 3.10.6 ('mldsenv': venv)",
   "language": "python",
   "name": "python3"
  },
  "language_info": {
   "codemirror_mode": {
    "name": "ipython",
    "version": 3
   },
   "file_extension": ".py",
   "mimetype": "text/x-python",
   "name": "python",
   "nbconvert_exporter": "python",
   "pygments_lexer": "ipython3",
   "version": "3.10.6"
  },
  "orig_nbformat": 4,
  "vscode": {
   "interpreter": {
    "hash": "2be23647c38f4a8f3277710e665c3faedf0f6d50fc021d48c9fe9cc2c109c8dd"
   }
  }
 },
 "nbformat": 4,
 "nbformat_minor": 2
}
