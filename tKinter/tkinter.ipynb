{
 "cells": [
  {
   "cell_type": "code",
   "execution_count": 11,
   "metadata": {},
   "outputs": [],
   "source": [
    "from tkinter import *\n",
    "root = Tk()\n",
    "root.title(\"Python Learning\")\n",
    "course = Label(root, text=\"Course - Programming: Begining to advance\", bg=\"red\", fg=\"yellow\")\n",
    "python = Button(root, text=\"Python\", bd=8, fg=\"blue\")\n",
    "Java = Button(root, text=\"Java\", bd=8, fg=\"green\")\n",
    "cpp = Button(root, text=\"C++\", bd=8, fg=\"red\")\n",
    "javascript = Button(root, text=\"JavaScript\", bd=8, fg=\"yellow\")\n",
    "\n",
    "\n",
    "python.grid(row=0, column=0)\n",
    "Java.grid(row=0, column=1)\n",
    "cpp.grid(row=1, column=0)\n",
    "javascript.grid(row=1, column=1)\n",
    "root.mainloop()"
   ]
  }
 ],
 "metadata": {
  "kernelspec": {
   "display_name": "Python 3.10.5 64-bit",
   "language": "python",
   "name": "python3"
  },
  "language_info": {
   "codemirror_mode": {
    "name": "ipython",
    "version": 3
   },
   "file_extension": ".py",
   "mimetype": "text/x-python",
   "name": "python",
   "nbconvert_exporter": "python",
   "pygments_lexer": "ipython3",
   "version": "3.10.5"
  },
  "orig_nbformat": 4,
  "vscode": {
   "interpreter": {
    "hash": "369f2c481f4da34e4445cda3fffd2e751bd1c4d706f27375911949ba6bb62e1c"
   }
  }
 },
 "nbformat": 4,
 "nbformat_minor": 2
}
