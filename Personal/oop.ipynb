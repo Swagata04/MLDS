{
 "cells": [
  {
   "cell_type": "markdown",
   "metadata": {},
   "source": [
    "# Object Oriented Programming"
   ]
  },
  {
   "cell_type": "code",
   "execution_count": 41,
   "metadata": {},
   "outputs": [],
   "source": [
    "class Product:\n",
    "    # class features\n",
    "    platform = 'Amazon'\n",
    "\n",
    "    # construction\n",
    "    def __init__(self, pid: int, title: str, price: float):\n",
    "        self.pid = pid\n",
    "        self.title = title\n",
    "        self.price = price\n",
    "\n",
    "\n",
    "    # Behaviour or method\n",
    "    def getPrice(self) -> float:\n",
    "        return self.price\n",
    "\n",
    "    def updatePrice(self, newPrice = float) -> float:\n",
    "        self.price = newPrice\n",
    "        return self.price\n",
    "\n",
    "    # special function\n",
    "    def __str__(self)-> str:\n",
    "        return f\"Product(pid={self.pid}, title={self.title}, price={self.price})\"\n",
    "    \n",
    "    def __repr__(self)-> str:\n",
    "        return self.__str__()\n"
   ]
  },
  {
   "cell_type": "markdown",
   "metadata": {},
   "source": [
    "## Creation of Object"
   ]
  },
  {
   "cell_type": "code",
   "execution_count": 42,
   "metadata": {},
   "outputs": [
    {
     "name": "stdout",
     "output_type": "stream",
     "text": [
      "Product(pid=12321, title=Nokia X30, price=60000.0)\n"
     ]
    },
    {
     "data": {
      "text/plain": [
       "Product(pid=12321, title=Nokia X30, price=60000.0)"
      ]
     },
     "execution_count": 42,
     "metadata": {},
     "output_type": "execute_result"
    }
   ],
   "source": [
    "x30 = Product(12321, 'Nokia X30', 60000.0)    #calling constructor\n",
    "print(x30)    # calling __str__()\n",
    "x30   # calling __repr__()"
   ]
  },
  {
   "cell_type": "code",
   "execution_count": 43,
   "metadata": {},
   "outputs": [
    {
     "data": {
      "text/plain": [
       "90000"
      ]
     },
     "execution_count": 43,
     "metadata": {},
     "output_type": "execute_result"
    }
   ],
   "source": [
    "# accessing features\n",
    "x30.platform\n",
    "x30.title\n",
    "x30.price = 90000\n",
    "x30.price"
   ]
  },
  {
   "cell_type": "code",
   "execution_count": 44,
   "metadata": {},
   "outputs": [
    {
     "data": {
      "text/plain": [
       "120000"
      ]
     },
     "execution_count": 44,
     "metadata": {},
     "output_type": "execute_result"
    }
   ],
   "source": [
    "# calling methods\n",
    "x30.updatePrice(120000)"
   ]
  },
  {
   "cell_type": "code",
   "execution_count": 45,
   "metadata": {},
   "outputs": [
    {
     "data": {
      "text/plain": [
       "67000.0"
      ]
     },
     "execution_count": 45,
     "metadata": {},
     "output_type": "execute_result"
    }
   ],
   "source": [
    "x20 = Product(323, \"Nokia X20\", 67000.0)\n",
    "x20.price"
   ]
  },
  {
   "cell_type": "markdown",
   "metadata": {},
   "source": [
    "# Getter, Setter, Deleter"
   ]
  },
  {
   "cell_type": "code",
   "execution_count": 58,
   "metadata": {},
   "outputs": [],
   "source": [
    "class Product:\n",
    "    # class features\n",
    "    platform = 'Amazon'\n",
    "\n",
    "    # construction\n",
    "    def __init__(self, pid: int, title: str, price: float):\n",
    "        self.pid = pid\n",
    "        self.title = title\n",
    "        self.price = price\n",
    "        self.__secretCode = 123456\n",
    "\n",
    "\n",
    "    # Behaviour or method+\n",
    "    @property\n",
    "    def secretCode(self) -> float:\n",
    "        return self.__secretCode\n",
    "    \n",
    "    @secretCode.setter        \n",
    "    def secretCode(self, newcode: int):    # setter function\n",
    "        self.__secretCode = newcode\n",
    "\n",
    "    @secretCode.deleter        \n",
    "    def secretCode(self):    # deleter function\n",
    "        del self.__secretCode\n",
    "\n",
    "\n",
    "    def updatePrice(self, newPrice = float) -> float:\n",
    "        self.price = newPrice\n",
    "        return self.price\n",
    "\n",
    "    # special function\n",
    "    def __str__(self)-> str:\n",
    "        return f\"Product(pid={self.pid}, title={self.title}, price={self.price})\"\n",
    "    \n",
    "    def __repr__(self)-> str:\n",
    "        return self.__str__()\n"
   ]
  },
  {
   "cell_type": "code",
   "execution_count": 59,
   "metadata": {},
   "outputs": [
    {
     "data": {
      "text/plain": [
       "Product(pid=2323, title=Nokia X40, price=120000.0)"
      ]
     },
     "execution_count": 59,
     "metadata": {},
     "output_type": "execute_result"
    }
   ],
   "source": [
    "x40 = Product(2323, \"Nokia X40\", 120000.0)\n",
    "x40"
   ]
  },
  {
   "cell_type": "code",
   "execution_count": 60,
   "metadata": {},
   "outputs": [
    {
     "data": {
      "text/plain": [
       "123456"
      ]
     },
     "execution_count": 60,
     "metadata": {},
     "output_type": "execute_result"
    }
   ],
   "source": [
    "x40.secretCode # Calling Getter"
   ]
  },
  {
   "cell_type": "code",
   "execution_count": 64,
   "metadata": {},
   "outputs": [
    {
     "ename": "AttributeError",
     "evalue": "'Product' object has no attribute '_Product__secretCode'",
     "output_type": "error",
     "traceback": [
      "\u001b[1;31m---------------------------------------------------------------------------\u001b[0m",
      "\u001b[1;31mAttributeError\u001b[0m                            Traceback (most recent call last)",
      "\u001b[1;32me:\\Python Programming\\Python\\MLDS\\Personal\\oop.ipynb Cell 12\u001b[0m in \u001b[0;36m<cell line: 1>\u001b[1;34m()\u001b[0m\n\u001b[1;32m----> <a href='vscode-notebook-cell:/e%3A/Python%20Programming/Python/MLDS/Personal/oop.ipynb#ch0000011?line=0'>1</a>\u001b[0m x40\u001b[39m.\u001b[39;49msecretCode\n",
      "\u001b[1;32me:\\Python Programming\\Python\\MLDS\\Personal\\oop.ipynb Cell 12\u001b[0m in \u001b[0;36mProduct.secretCode\u001b[1;34m(self)\u001b[0m\n\u001b[0;32m     <a href='vscode-notebook-cell:/e%3A/Python%20Programming/Python/MLDS/Personal/oop.ipynb#ch0000011?line=13'>14</a>\u001b[0m \u001b[39m@property\u001b[39m\n\u001b[0;32m     <a href='vscode-notebook-cell:/e%3A/Python%20Programming/Python/MLDS/Personal/oop.ipynb#ch0000011?line=14'>15</a>\u001b[0m \u001b[39mdef\u001b[39;00m \u001b[39msecretCode\u001b[39m(\u001b[39mself\u001b[39m) \u001b[39m-\u001b[39m\u001b[39m>\u001b[39m \u001b[39mfloat\u001b[39m:\n\u001b[1;32m---> <a href='vscode-notebook-cell:/e%3A/Python%20Programming/Python/MLDS/Personal/oop.ipynb#ch0000011?line=15'>16</a>\u001b[0m     \u001b[39mreturn\u001b[39;00m \u001b[39mself\u001b[39;49m\u001b[39m.\u001b[39;49m__secretCode\n",
      "\u001b[1;31mAttributeError\u001b[0m: 'Product' object has no attribute '_Product__secretCode'"
     ]
    }
   ],
   "source": [
    "x40.secretCode"
   ]
  },
  {
   "cell_type": "code",
   "execution_count": 62,
   "metadata": {},
   "outputs": [],
   "source": [
    "x40.secretCode = 654321      # calling setter"
   ]
  },
  {
   "cell_type": "code",
   "execution_count": 63,
   "metadata": {},
   "outputs": [],
   "source": [
    "del x40.secretCode          # calling deleter"
   ]
  }
 ],
 "metadata": {
  "kernelspec": {
   "display_name": "Python 3.10.5 64-bit",
   "language": "python",
   "name": "python3"
  },
  "language_info": {
   "codemirror_mode": {
    "name": "ipython",
    "version": 3
   },
   "file_extension": ".py",
   "mimetype": "text/x-python",
   "name": "python",
   "nbconvert_exporter": "python",
   "pygments_lexer": "ipython3",
   "version": "3.10.5"
  },
  "orig_nbformat": 4,
  "vscode": {
   "interpreter": {
    "hash": "369f2c481f4da34e4445cda3fffd2e751bd1c4d706f27375911949ba6bb62e1c"
   }
  }
 },
 "nbformat": 4,
 "nbformat_minor": 2
}
