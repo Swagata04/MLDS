{
 "cells": [
  {
   "cell_type": "markdown",
   "metadata": {},
   "source": [
    "# Object Oriented Programming"
   ]
  },
  {
   "cell_type": "code",
   "execution_count": 1,
   "metadata": {},
   "outputs": [],
   "source": [
    "class Product:\n",
    "    # class features\n",
    "    platform = 'Amazon'\n",
    "\n",
    "    # construction\n",
    "    def __init__(self, pid: int, title: str, price: float):\n",
    "        self.pid = pid\n",
    "        self.title = title\n",
    "        self.price = price\n",
    "\n",
    "\n",
    "    # Behaviour or method\n",
    "    def getPrice(self) -> float:\n",
    "        return self.price\n",
    "\n",
    "    def updatePrice(self, newPrice = float) -> float:\n",
    "        self.price = newPrice\n",
    "        return self.price\n",
    "\n",
    "    # special function\n",
    "    def __str__(self)-> str:\n",
    "        return f\"Product(pid={self.pid}, title={self.title}, price={self.price})\"\n",
    "    \n",
    "    def __repr__(self)-> str:\n",
    "        return self.__str__()\n"
   ]
  },
  {
   "cell_type": "markdown",
   "metadata": {},
   "source": [
    "## Creation of Object"
   ]
  },
  {
   "cell_type": "code",
   "execution_count": 2,
   "metadata": {},
   "outputs": [
    {
     "name": "stdout",
     "output_type": "stream",
     "text": [
      "Product(pid=12321, title=Nokia X30, price=60000.0)\n"
     ]
    },
    {
     "data": {
      "text/plain": [
       "Product(pid=12321, title=Nokia X30, price=60000.0)"
      ]
     },
     "execution_count": 2,
     "metadata": {},
     "output_type": "execute_result"
    }
   ],
   "source": [
    "x30 = Product(12321, 'Nokia X30', 60000.0)    #calling constructor\n",
    "print(x30)    # calling __str__()\n",
    "x30   # calling __repr__()"
   ]
  },
  {
   "cell_type": "code",
   "execution_count": 3,
   "metadata": {},
   "outputs": [
    {
     "data": {
      "text/plain": [
       "90000"
      ]
     },
     "execution_count": 3,
     "metadata": {},
     "output_type": "execute_result"
    }
   ],
   "source": [
    "# accessing features\n",
    "x30.platform\n",
    "x30.title\n",
    "x30.price = 90000\n",
    "x30.price"
   ]
  },
  {
   "cell_type": "code",
   "execution_count": 4,
   "metadata": {},
   "outputs": [
    {
     "data": {
      "text/plain": [
       "120000"
      ]
     },
     "execution_count": 4,
     "metadata": {},
     "output_type": "execute_result"
    }
   ],
   "source": [
    "# calling methods\n",
    "x30.updatePrice(120000)"
   ]
  },
  {
   "cell_type": "code",
   "execution_count": 5,
   "metadata": {},
   "outputs": [
    {
     "data": {
      "text/plain": [
       "67000.0"
      ]
     },
     "execution_count": 5,
     "metadata": {},
     "output_type": "execute_result"
    }
   ],
   "source": [
    "x20 = Product(323, \"Nokia X20\", 67000.0)\n",
    "x20.price"
   ]
  },
  {
   "cell_type": "markdown",
   "metadata": {},
   "source": [
    "# Getter, Setter, Deleter"
   ]
  },
  {
   "cell_type": "code",
   "execution_count": 6,
   "metadata": {},
   "outputs": [],
   "source": [
    "class Product:\n",
    "    # class features\n",
    "    platform = 'Amazon'\n",
    "\n",
    "    # construction\n",
    "    def __init__(self, pid: int, title: str, price: float):\n",
    "        self.pid = pid\n",
    "        self.title = title\n",
    "        self.price = price\n",
    "        self.__secretCode = 123456\n",
    "\n",
    "\n",
    "    # Behaviour or method+\n",
    "    @property\n",
    "    def secretCode(self) -> float:\n",
    "        return self.__secretCode\n",
    "    \n",
    "    @secretCode.setter        \n",
    "    def secretCode(self, newcode: int):    # setter function\n",
    "        self.__secretCode = newcode\n",
    "\n",
    "    @secretCode.deleter        \n",
    "    def secretCode(self):    # deleter function\n",
    "        del self.__secretCode\n",
    "\n",
    "\n",
    "    def updatePrice(self, newPrice = float) -> float:\n",
    "        self.price = newPrice\n",
    "        return self.price\n",
    "\n",
    "    # special function\n",
    "    def __str__(self)-> str:\n",
    "        return f\"Product(pid={self.pid}, title={self.title}, price={self.price})\"\n",
    "    \n",
    "    def __repr__(self)-> str:\n",
    "        return self.__str__()\n"
   ]
  },
  {
   "cell_type": "code",
   "execution_count": 7,
   "metadata": {},
   "outputs": [
    {
     "data": {
      "text/plain": [
       "Product(pid=2323, title=Nokia X40, price=120000.0)"
      ]
     },
     "execution_count": 7,
     "metadata": {},
     "output_type": "execute_result"
    }
   ],
   "source": [
    "x40 = Product(2323, \"Nokia X40\", 120000.0)\n",
    "x40"
   ]
  },
  {
   "cell_type": "code",
   "execution_count": 8,
   "metadata": {},
   "outputs": [
    {
     "data": {
      "text/plain": [
       "123456"
      ]
     },
     "execution_count": 8,
     "metadata": {},
     "output_type": "execute_result"
    }
   ],
   "source": [
    "x40.secretCode # Calling Getter"
   ]
  },
  {
   "cell_type": "code",
   "execution_count": 9,
   "metadata": {},
   "outputs": [
    {
     "data": {
      "text/plain": [
       "123456"
      ]
     },
     "execution_count": 9,
     "metadata": {},
     "output_type": "execute_result"
    }
   ],
   "source": [
    "x40.secretCode"
   ]
  },
  {
   "cell_type": "code",
   "execution_count": 10,
   "metadata": {},
   "outputs": [],
   "source": [
    "x40.secretCode = 654321      # calling setter"
   ]
  },
  {
   "cell_type": "code",
   "execution_count": 11,
   "metadata": {},
   "outputs": [
    {
     "data": {
      "text/plain": [
       "'del x40.secretCode'"
      ]
     },
     "execution_count": 11,
     "metadata": {},
     "output_type": "execute_result"
    }
   ],
   "source": [
    "'''del x40.secretCode'''          # calling deleter"
   ]
  }
 ],
 "metadata": {
  "kernelspec": {
   "display_name": "Python 3.10.5 64-bit",
   "language": "python",
   "name": "python3"
  },
  "language_info": {
   "codemirror_mode": {
    "name": "ipython",
    "version": 3
   },
   "file_extension": ".py",
   "mimetype": "text/x-python",
   "name": "python",
   "nbconvert_exporter": "python",
   "pygments_lexer": "ipython3",
   "version": "3.10.6"
  },
  "orig_nbformat": 4,
  "vscode": {
   "interpreter": {
    "hash": "369f2c481f4da34e4445cda3fffd2e751bd1c4d706f27375911949ba6bb62e1c"
   }
  }
 },
 "nbformat": 4,
 "nbformat_minor": 2
}
